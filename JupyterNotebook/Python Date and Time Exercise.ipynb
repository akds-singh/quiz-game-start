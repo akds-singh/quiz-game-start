{
 "cells": [
  {
   "cell_type": "code",
   "execution_count": null,
   "metadata": {
    "collapsed": true
   },
   "outputs": [],
   "source": [
    "import datetime\n",
    "print(dir(datetime))"
   ]
  },
  {
   "cell_type": "code",
   "execution_count": null,
   "outputs": [],
   "source": [
    "from datetime import datetime\n",
    "from datetime import time\n",
    "\n",
    "# Extract time from datetime object\n",
    "now = datetime.now()\n",
    "print(\"Current time is:\", now.time())\n",
    "\n",
    "# Create empty time object\n",
    "t = time()\n",
    "print('Time', t)\n",
    "\n",
    "# create time object with attribute names\n",
    "t1 = time(hour=7, minute=10, second=34)\n",
    "print(\"time is:\", t1)\n",
    "\n",
    "# time without attributes names\n",
    "t2 = time(7, 10, 45)\n",
    "print(\"time is:\", t2)\n",
    "\n",
    "# time with microseconds\n",
    "t3 = time(7, 10, 45, 400437)\n",
    "print(\"time is:\", t3)"
   ],
   "metadata": {
    "collapsed": false
   }
  },
  {
   "cell_type": "code",
   "execution_count": null,
   "outputs": [],
   "source": [
    "from datetime import datetime\n",
    "\n",
    "# create datetime object\n",
    "dt = datetime.now()\n",
    "print(\"Datetime is:\", dt)\n",
    "\n",
    "# Get date, time, and timestamp\n",
    "print('Date:', dt.date())\n",
    "print('Time:', dt.time())\n",
    "print('Timestamp:', dt.timestamp())\n",
    "\n",
    "# Get Attributes\n",
    "print('Year:', dt.year)\n",
    "print('Month:', dt.month)\n",
    "print('Day:', dt.day)\n",
    "\n",
    "print('Hours:', dt.hour)\n",
    "print('Minutes:', dt.minute)\n",
    "print('Seconds:', dt.second)\n",
    "print('Microseconds:', dt.microsecond)\n"
   ],
   "metadata": {
    "collapsed": false
   }
  },
  {
   "cell_type": "code",
   "execution_count": null,
   "outputs": [],
   "source": [
    "from datetime import datetime\n",
    "import pytz\n",
    "\n",
    "# current Datetime\n",
    "unaware = datetime.now()\n",
    "print('Timezone naive:', unaware)\n",
    "\n",
    "# US/Central timezone datetime\n",
    "aware_us_central = datetime.now(pytz.timezone('US/Central'))\n",
    "print('US Central DateTime', aware_us_central)"
   ],
   "metadata": {
    "collapsed": false
   }
  },
  {
   "cell_type": "code",
   "execution_count": null,
   "outputs": [],
   "source": [
    "import time\n",
    "\n",
    "seconds = time.time()\n",
    "print(\"Current time in seconds:\", seconds)\n",
    "\n",
    "local_time = time.localtime(seconds)\n",
    "print('Local Time', local_time)\n",
    "\n",
    "# time in string form\n",
    "print('Time in String:', time.ctime(seconds))\n",
    "\n",
    "# Formatting the time to display in string format\n",
    "print('Formatted Time:', time.strftime(\"%d/%m/%Y %H:%M:%S\", local_time))\n",
    "\n",
    "# String to Time Object\n",
    "print('Time object:', time.strptime(\"16/07/2021 17:33:37\", \"%d/%m/%Y %H:%M:%S\"))"
   ],
   "metadata": {
    "collapsed": false
   }
  },
  {
   "cell_type": "code",
   "execution_count": null,
   "outputs": [],
   "source": [
    "from datetime import datetime\n",
    "\n",
    "\n",
    "date_string = \"Feb 25 2020 4:20PM\"\n",
    "\n",
    "\n",
    "print(datetime.strptime(date_string ,'%b %d %Y %I:%M%p'))\n"
   ],
   "metadata": {
    "collapsed": false
   }
  },
  {
   "cell_type": "markdown",
   "source": [
    "Exercise 3: Subtract a week (7 days)  from a given date in Python"
   ],
   "metadata": {
    "collapsed": false
   }
  },
  {
   "cell_type": "code",
   "execution_count": null,
   "outputs": [],
   "source": [
    "from datetime import timedelta, datetime\n",
    "\n",
    "given_date = datetime(2020, 2, 25)\n",
    "\n",
    "print(given_date.day - 5)\n",
    "print(given_date)\n",
    "\n",
    "res_date = given_date - timedelta(days=7)\n",
    "\n",
    "print(res_date)\n"
   ],
   "metadata": {
    "collapsed": false
   }
  },
  {
   "cell_type": "code",
   "execution_count": null,
   "outputs": [],
   "source": [
    "given_date = datetime(2020, 2, 25)\n",
    "\n",
    "print(type(given_date))\n",
    "# Tuesday 25 February 2020\n",
    "print(given_date.strftime('%A %d %B %Y'))"
   ],
   "metadata": {
    "collapsed": false
   }
  },
  {
   "cell_type": "markdown",
   "source": [
    "Exercise 5: Find the day of the week of a given date"
   ],
   "metadata": {
    "collapsed": false
   }
  },
  {
   "cell_type": "code",
   "execution_count": null,
   "outputs": [],
   "source": [
    "given_date = datetime(2020, 7, 26)\n",
    "\n",
    "print(given_date.weekday())\n",
    "\n",
    "print(given_date.strftime(\"%A\"))"
   ],
   "metadata": {
    "collapsed": false
   }
  },
  {
   "cell_type": "code",
   "execution_count": null,
   "outputs": [],
   "source": [
    "import calendar\n",
    "\n",
    "print(calendar.month(2020, 7))"
   ],
   "metadata": {
    "collapsed": false
   }
  },
  {
   "cell_type": "code",
   "execution_count": null,
   "outputs": [],
   "source": [
    "import calendar\n",
    "\n",
    "year = 2021\n",
    "month = 6\n",
    "\n",
    "# Display calendar\n",
    "print(calendar.month(year, month))"
   ],
   "metadata": {
    "collapsed": false
   }
  },
  {
   "cell_type": "code",
   "execution_count": null,
   "outputs": [],
   "source": [
    "\n",
    "# from datetime import datetime\n",
    "import calendar\n",
    "import time\n",
    "\n",
    "t = time.gmtime(0)\n",
    "\n",
    "print(t)\n",
    "\n",
    "t1 = time.localtime()\n",
    "print(t1)\n",
    "\n",
    "print(time.mktime(t1))\n",
    "\n",
    "print(calendar.timegm(t1))\n",
    "\n",
    "print(time.asctime(t1))\n",
    "print(time.asctime(t))"
   ],
   "metadata": {
    "collapsed": false
   }
  },
  {
   "cell_type": "code",
   "execution_count": null,
   "outputs": [],
   "source": [
    "print(time.time())"
   ],
   "metadata": {
    "collapsed": false
   }
  },
  {
   "cell_type": "code",
   "execution_count": null,
   "outputs": [],
   "source": [
    "from datetime import datetime\n",
    "\n",
    "given_date = datetime(2000, 2, 25)\n",
    "\n",
    "print(given_date.strftime(\"%Y-%m-%d %H:%M:%S\"))"
   ],
   "metadata": {
    "collapsed": false
   }
  },
  {
   "cell_type": "markdown",
   "source": [
    "Exercise 9: Calculate the date 4 months from the current date\n"
   ],
   "metadata": {
    "collapsed": false
   }
  },
  {
   "cell_type": "code",
   "execution_count": null,
   "outputs": [],
   "source": [
    "print(given_date.now())\n",
    "print(datetime.now())\n",
    "print(given_date.date())\n",
    "print(datetime(2022, 10, 30).date())"
   ],
   "metadata": {
    "collapsed": false
   }
  },
  {
   "cell_type": "code",
   "execution_count": null,
   "outputs": [],
   "source": [
    "given_date = datetime(2020, 2, 25).date()\n",
    "\n",
    "print(given_date)\n",
    "print(given_date.strftime('%Y %B %d'))\n",
    "\n",
    "result_date = given_date + timedelta(days=121)\n",
    "\n",
    "print(result_date)"
   ],
   "metadata": {
    "collapsed": false
   }
  },
  {
   "cell_type": "code",
   "execution_count": null,
   "outputs": [],
   "source": [
    "from datetime import datetime\n",
    "\n",
    "from dateutil.relativedelta import relativedelta\n",
    "\n",
    "# 2020-02-25\n",
    "given_date = datetime(2020, 2, 25).date()\n",
    "\n",
    "months_to_add = 4\n",
    "new_date = given_date + relativedelta(months=+ months_to_add)\n",
    "print(new_date)\n"
   ],
   "metadata": {
    "collapsed": false
   }
  },
  {
   "cell_type": "code",
   "execution_count": null,
   "outputs": [],
   "source": [
    "date_1 = datetime(2020, 2, 25).date()\n",
    "date_2 = datetime(2020, 9, 17).date()\n",
    "\n",
    "num_days = date_2 - date_1\n",
    "\n",
    "print(type(num_days))\n",
    "print(num_days.days, 'days')"
   ],
   "metadata": {
    "collapsed": false
   }
  },
  {
   "cell_type": "code",
   "execution_count": null,
   "outputs": [],
   "source": [
    "from datetime import datetime\n",
    "\n",
    "# 2020-02-25\n",
    "date_1 = datetime(2020, 2, 25).date()\n",
    "# 2020-09-17\n",
    "date_2 = datetime(2020, 9, 17).date()\n",
    "\n",
    "delta = None\n",
    "if date_1 > date_2:\n",
    "    print(\"date_1 is greater\")\n",
    "    delta = date_1 - date_2\n",
    "else:\n",
    "    print(\"date_2 is greater\")\n",
    "    delta = date_2 - date_1\n",
    "print(\"Difference is\", delta.days, \"days\")\n"
   ],
   "metadata": {
    "collapsed": false
   }
  }
 ],
 "metadata": {
  "kernelspec": {
   "display_name": "Python 3",
   "language": "python",
   "name": "python3"
  },
  "language_info": {
   "codemirror_mode": {
    "name": "ipython",
    "version": 2
   },
   "file_extension": ".py",
   "mimetype": "text/x-python",
   "name": "python",
   "nbconvert_exporter": "python",
   "pygments_lexer": "ipython2",
   "version": "2.7.6"
  }
 },
 "nbformat": 4,
 "nbformat_minor": 0
}
