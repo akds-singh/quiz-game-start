{
 "cells": [
  {
   "cell_type": "markdown",
   "source": [
    "#1. Create a greeting for your program.\n",
    "\n",
    "#2. Ask the user for the city that they grew up in.\n",
    "\n",
    "#3. Ask the user for the name of a pet.\n",
    "\n",
    "#4. Combine the name of their city and pet and show them their band name.\n",
    "\n",
    "#5. Make sure the input cursor shows on a new line:\n",
    "\n",
    "# Solution: https://replit.com/@appbrewery/band-name-generator-end"
   ],
   "metadata": {
    "collapsed": false
   }
  },
  {
   "cell_type": "code",
   "execution_count": null,
   "outputs": [],
   "source": [],
   "metadata": {
    "collapsed": false
   }
  },
  {
   "cell_type": "code",
   "execution_count": null,
   "outputs": [],
   "source": [],
   "metadata": {
    "collapsed": false
   }
  },
  {
   "cell_type": "code",
   "execution_count": null,
   "outputs": [],
   "source": [
    "# project 1\n",
    "\n",
    "print(\"hello welcome to the Brand Making\")\n",
    "city_name = input(\"please Enter your city name:\\n\")\n",
    "pet_name = input(\"Please Enter your pet name:\")\n",
    "\n",
    "print(\"Here it's your brand name:\", city_name+pet_name)\n"
   ],
   "metadata": {
    "collapsed": false
   }
  },
  {
   "cell_type": "code",
   "execution_count": null,
   "outputs": [],
   "source": [
    "# accept input string from a user\n",
    "word = input('Enter word ')\n",
    "print(\"Original String:\", word)\n",
    "\n",
    "# get the length of a string\n",
    "size = len(word)\n",
    "\n",
    "# iterate a each character of a string\n",
    "# start: 0 to start with first character\n",
    "# stop: size-1 because index starts with 0\n",
    "# step: 2 to get the characters present at even index like 0, 2, 4\n",
    "print(\"Printing only even index chars\")\n",
    "for i in range(0, size - 1):\n",
    "    print(\"index[\", i, \"]\", word[i])"
   ],
   "metadata": {
    "collapsed": false
   }
  },
  {
   "cell_type": "code",
   "execution_count": null,
   "outputs": [],
   "source": [
    "# 🚨 Don't change the code below 👇\n",
    "age = input(\"What is your current age? \")\n",
    "# 🚨 Don't change the code above 👆\n",
    "\n",
    "#Write your code below this line 👇\n",
    "age = int(age)\n",
    "\n",
    "\n",
    "print(f\"Your have {(90-age) * 365} days, {int(((90-age) * 365) / 7)} weeks, and {int(((90-age) * 365) / 30)} months\")"
   ],
   "metadata": {
    "collapsed": false
   }
  },
  {
   "cell_type": "markdown",
   "source": [
    "#If the bill was $150.00, split between 5 people, with 12% tip.\n",
    "\n",
    "#Each person should pay (150.00 / 5) * 1.12 = 33.6\n",
    "#Format the result to 2 decimal places = 33.60\n",
    "\n",
    "#Tip: There are 2 ways to round a number. You might have to do some Googling to solve this.💪\n",
    "\n",
    "#Write your code below this line 👇\n"
   ],
   "metadata": {
    "collapsed": false
   }
  },
  {
   "cell_type": "code",
   "execution_count": null,
   "outputs": [],
   "source": [
    "print(\"Welcome to the tip calculator.\")\n",
    "\n",
    "bill_amount = float(input(\"What was the total bill? $\"))\n",
    "\n",
    "tip_percentage = int(input(\"What percentage tip would you like to give? 10, 12, or 15?\"))\n",
    "people_number = int(input(\"How many people to split the bill?\"))\n",
    "\n",
    "each_person_pay = (bill_amount - (tip_percentage/100) * bill_amount ) / people_number\n",
    "print(\"Each person should pay: $\", round(each_person_pay, 2))"
   ],
   "metadata": {
    "collapsed": false
   }
  },
  {
   "cell_type": "code",
   "execution_count": null,
   "outputs": [],
   "source": [
    "from graphviz import Digraph\n",
    "\n",
    "dot = Digraph()\n",
    "dot.attr(rankdir='LR', size='8,5')\n",
    "\n",
    "dot.node('A', 'Start')\n",
    "dot.node('B', 'Process 1')\n",
    "dot.node('C', 'Process 2')\n",
    "dot.node('D', 'End')\n",
    "\n",
    "dot.edges(['AB', 'BC', 'CD'])\n",
    "\n",
    "dot.render('flowchart', view=True)"
   ],
   "metadata": {
    "collapsed": false
   }
  },
  {
   "cell_type": "code",
   "execution_count": null,
   "outputs": [],
   "source": [
    "import random\n",
    "int_random = random.uniform(5,1)\n",
    "print(int_random)"
   ],
   "metadata": {
    "collapsed": false
   }
  },
  {
   "cell_type": "code",
   "execution_count": null,
   "outputs": [],
   "source": [
    "import random\n",
    "\n",
    "print('Random number from 0 to 1 :', random.random())\n",
    "print('Uniform Distribution between [1,5] :', random.uniform(1, 5))\n",
    "print('Gaussian Distribution with mean = 0 and standard deviation = 1 :', random.gauss(0, 1))\n",
    "print('Exponential Distribution with lambda = 0.1 :', random.expovariate(0.1))\n",
    "print('Normal Distribution with mean = 1 and standard deviation = 2:', random.normalvariate(1, 5))\n"
   ],
   "metadata": {
    "collapsed": false
   }
  },
  {
   "cell_type": "code",
   "execution_count": null,
   "outputs": [],
   "source": [
    "import random\n",
    "\n",
    "sequence = [random.randint(0, i) for i in range(10)]\n",
    "\n",
    "print('Before shuffling', sequence)\n",
    "\n",
    "random.shuffle(sequence)\n",
    "\n",
    "print('After shuffling', sequence)"
   ],
   "metadata": {
    "collapsed": false
   }
  },
  {
   "cell_type": "code",
   "execution_count": null,
   "outputs": [],
   "source": [
    "import random\n",
    "\n",
    "a = ['one', 'eleven', 'twelve', 'five', 'six', 'ten']\n",
    "\n",
    "print(a)\n",
    "\n",
    "for i in range(5):\n",
    "    print(random.choice(a))"
   ],
   "metadata": {
    "collapsed": false
   }
  },
  {
   "cell_type": "code",
   "execution_count": null,
   "outputs": [],
   "source": [
    "import random\n",
    "\n",
    "a = ['one', 'eleven', 'twelve', 'five', 'six', 'ten']\n",
    "\n",
    "print(a)\n",
    "\n",
    "for i in range(3):\n",
    "    b = random.sample(a, 2)\n",
    "    print('random sample:', b)"
   ],
   "metadata": {
    "collapsed": false
   }
  },
  {
   "cell_type": "markdown",
   "source": [],
   "metadata": {
    "collapsed": false
   }
  },
  {
   "cell_type": "code",
   "execution_count": null,
   "outputs": [],
   "source": [
    "import random\n",
    "\n",
    "random.seed(1)\n",
    "\n",
    "print('Generating a random sequence of 4 numbers...')\n",
    "print([random.randint(1, 100) for i in range(5)])\n",
    "\n",
    "# Reset the seed to 1 again\n",
    "random.seed(1)\n",
    "\n",
    "# We now get the same sequence\n",
    "print([random.randint(1, 100) for i in range(5)])"
   ],
   "metadata": {
    "collapsed": false
   }
  },
  {
   "cell_type": "code",
   "execution_count": null,
   "outputs": [],
   "source": [
    "import random\n",
    "random_decimal_num = random.uniform(0,5)\n",
    "random_num = random.random()*5\n",
    "\n",
    "print(random_decimal_num)\n",
    "print(random_num)"
   ],
   "metadata": {
    "collapsed": false
   }
  },
  {
   "cell_type": "code",
   "execution_count": null,
   "outputs": [],
   "source": [
    "my_list = [\"akash\", \"deep\", \"singh\",]\n",
    "\n",
    "my_list.append(\"9835\")\n",
    "my_list[len(my_list):] = [\"singh\"]\n",
    "print(len(my_list))\n",
    "print(my_list)\n",
    "my_list[0:1] = [\"akds.rajput\", \"sanam\"]\n",
    "print(len(my_list ))\n",
    "print(my_list)\n",
    "my_list[len(my_list):] = [\"test\"]\n",
    "print(my_list[1:2])\n",
    "print(my_list)\n",
    "my_list.insert(1, \"insert_test\")\n",
    "my_list.insert(1, \"singh\")\n",
    "print(my_list)\n",
    "my_list.remove(\"insert_test\")\n",
    "print(my_list)\n",
    "my_list.pop()\n",
    "print(my_list)\n",
    "print(my_list.index(\"singh\"))\n",
    "my_list\n",
    "print(my_list.count(\"singh\"))\n",
    "my_list.sort()\n",
    "print(my_list)\n"
   ],
   "metadata": {
    "collapsed": false
   }
  },
  {
   "cell_type": "code",
   "execution_count": null,
   "outputs": [],
   "source": [
    "fruits = [\"Strawberries\", \"Nectarines\", \"Apples\", \"Grapes\", \"Peaches\", \"Cherries\", \"Pears\"]\n",
    "vegetables = [\"Spinach\", \"Kale\", \"Tomatoes\", \"Celery\", \"Potatoes\"]\n",
    "dirty_dozen = [fruits, vegetables]\n",
    "print(dirty_dozen)"
   ],
   "metadata": {
    "collapsed": false
   }
  },
  {
   "cell_type": "code",
   "execution_count": null,
   "outputs": [],
   "source": [],
   "metadata": {
    "collapsed": false
   }
  },
  {
   "cell_type": "markdown",
   "source": [
    "Rock , paper , Sciccors game:"
   ],
   "metadata": {
    "collapsed": false
   }
  },
  {
   "cell_type": "code",
   "execution_count": null,
   "outputs": [],
   "source": [
    "rock = '''\n",
    "    _______\n",
    "---'   ____)\n",
    "      (_____)\n",
    "      (_____)\n",
    "      (____)\n",
    "---.__(___)\n",
    "'''\n",
    "\n",
    "paper = '''\n",
    "    _______\n",
    "---'   ____)____\n",
    "          ______)\n",
    "          _______)\n",
    "         _______)\n",
    "---.__________)\n",
    "'''\n",
    "\n",
    "scissors = '''\n",
    "    _______\n",
    "---'   ____)____\n",
    "          ______)\n",
    "       __________)\n",
    "      (____)\n",
    "---.__(___)\n",
    "'''\n",
    "\n",
    "#Write your code below this line 👇\n",
    "import random\n",
    "\n",
    "l1 = [rock, paper, scissors]\n",
    "your_choice = int(input(\"What do you choose? 0 for rock, 1 for paper, 2 for scissors: \"))\n",
    "com_choice = random.choice(l1)\n",
    "\n",
    "try:\n",
    "  if l1[your_choice]==l1[0] and com_choice == l1[2]:\n",
    "    print(f\"You chose:\\n {l1[your_choice]}\\n Computer chose:\\n {com_choice} \\n You win\")\n",
    "  elif l1[your_choice]==l1[2] and com_choice == l1[1]:\n",
    "    print(f\"You chose:\\n {l1[your_choice]}\\n Computer chose:\\n {com_choice} \\n You win\")\n",
    "  elif l1[your_choice]==l1[1] and com_choice == l1[0]:\n",
    "    print(f\"You chose:\\n {l1[your_choice]}\\n Computer chose:\\n {com_choice} \\n You win\")\n",
    "  elif l1[your_choice] == com_choice:\n",
    "    print(f\"You chose:\\n {l1[your_choice]}\\n Computer chose:\\n {com_choice} \\n Game-Draw! Try again\")\n",
    "  else:\n",
    "    print(f\"You chose:\\n {l1[your_choice]}\\n Computer chose:\\n {com_choice} \\n You lose\")\n",
    "\n",
    "except:\n",
    "  print(\"Invalid.  You lose!\")"
   ],
   "metadata": {
    "collapsed": false
   }
  },
  {
   "cell_type": "code",
   "execution_count": null,
   "outputs": [],
   "source": [
    "l2 = [\"a\", \"b\", \"c\", \"d\", \"e\", \"f\" ]\n",
    "c = 2\n",
    "for i in range(0, 10, c+1):\n",
    "    print(\"Intial_i:\", i , end=\"\\n\")\n",
    "    for j in range(1, 10):\n",
    "        print(\"intial_J:\", j, end=\" \")\n",
    "\n",
    "        if i == \"c\":\n",
    "\n",
    "            break\n",
    "        else:\n",
    "\n",
    "            continue\n",
    "        print(\"final_J:\", j)\n",
    "    print(\"Final_i:\", i)"
   ],
   "metadata": {
    "collapsed": false
   }
  },
  {
   "cell_type": "code",
   "execution_count": null,
   "outputs": [],
   "source": [
    "# 🚨 Don't change the code below 👇\n",
    "student_scores = input(\"Input a list of student scores \").split()\n",
    "for n in range(0, len(student_scores)):\n",
    "  student_scores[n] = int(student_scores[n])\n",
    "print(student_scores)\n",
    "# 🚨 Don't change the code above 👆\n",
    "\n",
    "#Write your code below this row 👇\n",
    "i = 0\n",
    "while i < len(student_scores):\n",
    "    for j in range(i+1, len(student_scores)):\n",
    "\n",
    "        if student_scores[i] > student_scores[j]:\n",
    "            continue\n",
    "\n",
    "        else:\n",
    "            i = j\n",
    "\n",
    "    print(\"largest number:\", student_scores[i])\n",
    "\n",
    "    break\n",
    "\n",
    "\n"
   ],
   "metadata": {
    "collapsed": false
   }
  },
  {
   "cell_type": "code",
   "execution_count": null,
   "outputs": [],
   "source": [
    "# 🚨 Don't change the code below 👇\n",
    "student_scores = input(\"Input a list of student scores \").split()\n",
    "for n in range(0, len(student_scores)):\n",
    "  student_scores[n] = int(student_scores[n])\n",
    "print(student_scores)\n",
    "# 🚨 Don't change the code above 👆\n",
    "\n",
    "#Write your code below this row 👇\n",
    "i = 0\n",
    "for i in  range(i , len(student_scores)):\n",
    "    for j in range(i+1, len(student_scores)):\n",
    "\n",
    "        if student_scores[i] > student_scores[j]:\n",
    "            continue\n",
    "\n",
    "        else:\n",
    "            i = j\n",
    "\n",
    "    print(\"largest number:\", student_scores[i])\n",
    "\n",
    "    break\n",
    "\n",
    "\n"
   ],
   "metadata": {
    "collapsed": false
   }
  },
  {
   "cell_type": "code",
   "execution_count": null,
   "outputs": [],
   "source": [
    "l3 = [50, 65, 89, 86, 55, 91, 64, 500]\n",
    "print(type(l3))\n",
    "s = str(l3)\n",
    "print(type(s))\n",
    "print(s)\n",
    "s1 = s.strip(\"[]\")\n",
    "print(s1)\n",
    "l4 = []\n",
    "l4.extend(l3)\n",
    "print(l4)"
   ],
   "metadata": {
    "collapsed": false
   }
  },
  {
   "cell_type": "code",
   "execution_count": null,
   "outputs": [],
   "source": [
    "#Password Generator Project\n",
    "import random\n",
    "letters = ['a', 'b', 'c', 'd', 'e', 'f', 'g', 'h', 'i', 'j', 'k', 'l', 'm', 'n', 'o', 'p', 'q', 'r', 's', 't', 'u', 'v', 'w', 'x', 'y', 'z', 'A', 'B', 'C', 'D', 'E', 'F', 'G', 'H', 'I', 'J', 'K', 'L', 'M', 'N', 'O', 'P', 'Q', 'R', 'S', 'T', 'U', 'V', 'W', 'X', 'Y', 'Z']\n",
    "numbers = ['0', '1', '2', '3', '4', '5', '6', '7', '8', '9']\n",
    "symbols = ['!', '#', '$', '%', '&', '(', ')', '*', '+']\n",
    "\n",
    "print(\"Welcome to the PyPassword Generator!\")\n",
    "nr_letters= int(input(\"How many letters would you like in your password?\\n\"))\n",
    "nr_symbols = int(input(f\"How many symbols would you like?\\n\"))\n",
    "nr_numbers = int(input(f\"How many numbers would you like?\\n\"))\n",
    "\n",
    "#Eazy Level - Order not randomised:\n",
    "#e.g. 4 letter, 2 symbol, 2 number = JduE&!91\n",
    "\n",
    "\n",
    "#Hard Level - Order of characters randomised:\n",
    "#e.g. 4 letter, 2 symbol, 2 number = g^2jk8&P\n",
    "result_list =[]\n",
    "\n",
    "# Creating random numbers of letters , symbolsm, numbers with given numbrers-of\n",
    "rand_letters = random.sample(letters, nr_letters)\n",
    "print(rand_letters)\n",
    "rand_symbols = random.sample(symbols, nr_symbols)\n",
    "print(rand_symbols)\n",
    "rand_numbers = random.sample(numbers, nr_numbers)\n",
    "print(rand_numbers)\n",
    "\n",
    "#adding or extending above random list to new 'result_list'\n",
    "result_list.extend(rand_symbols)\n",
    "result_list.extend(rand_letters)\n",
    "result_list.extend(rand_numbers)\n",
    "print(result_list)\n",
    "\n",
    "# creating a password list where all our randoms value will present:\n",
    "password_list = random.sample(result_list, len(result_list))\n",
    "print(password_list)\n",
    "\n",
    "# concatinating the password_list to form a string and give output\n",
    "password =\"\"\n",
    "for i in password_list:\n",
    "  password += i\n",
    "print(\"Your password is:\", password)"
   ],
   "metadata": {
    "collapsed": false
   }
  },
  {
   "cell_type": "code",
   "execution_count": null,
   "outputs": [],
   "source": [
    "def my_function():\n",
    "    a =3\n",
    "    if a>2:\n",
    "        print(\"this will run\")\n",
    "    my_function()\n",
    "\n",
    "my_function()\n",
    "\n"
   ],
   "metadata": {
    "collapsed": false
   }
  },
  {
   "cell_type": "code",
   "execution_count": null,
   "outputs": [],
   "source": [
    "stages = ['''\n",
    "  +---+\n",
    "  |   |\n",
    "  O   |\n",
    " /|\\  |\n",
    " / \\  |\n",
    "      |\n",
    "=========\n",
    "''', '''\n",
    "  +---+\n",
    "  |   |\n",
    "  O   |\n",
    " /|\\  |\n",
    " /    |\n",
    "      |\n",
    "=========\n",
    "''', '''\n",
    "  +---+\n",
    "  |   |\n",
    "  O   |\n",
    " /|\\  |\n",
    "      |\n",
    "      |\n",
    "=========\n",
    "''', '''\n",
    "  +---+\n",
    "  |   |\n",
    "  O   |\n",
    " /|   |\n",
    "      |\n",
    "      |\n",
    "=========''', '''\n",
    "  +---+\n",
    "  |   |\n",
    "  O   |\n",
    "  |   |\n",
    "      |\n",
    "      |\n",
    "=========\n",
    "''', '''\n",
    "  +---+\n",
    "  |   |\n",
    "  O   |\n",
    "      |\n",
    "      |\n",
    "      |\n",
    "=========\n",
    "''', '''\n",
    "  +---+\n",
    "  |   |\n",
    "      |\n",
    "      |\n",
    "      |\n",
    "      |\n",
    "=========\n",
    "''']\n",
    "\n",
    "print(stages[6])"
   ],
   "metadata": {
    "collapsed": false
   }
  },
  {
   "cell_type": "code",
   "execution_count": null,
   "outputs": [],
   "source": [
    "alphabet = ['a', 'b', 'c', 'd', 'e', 'f', 'g', 'h', 'i', 'j', 'k', 'l', 'm', 'n', 'o', 'p', 'q', 'r', 's', 't', 'u', 'v', 'w', 'x', 'y', 'z', 'a', 'b', 'c', 'd', 'e', 'f', 'g', 'h', 'i', 'j', 'k', 'l', 'm', 'n', 'o', 'p', 'q', 'r', 's', 't', 'u', 'v', 'w', 'x', 'y', 'z']\n",
    "\n",
    "direction = input(\"Type 'encode' to encrypt, type 'decode' to decrypt:\\n\")\n",
    "text = input(\"Type your message:\\n\").lower()\n",
    "shift = int(input(\"Type the shift number:\\n\"))\n",
    "\n",
    "#TODO-1: Combine the encrypt() and decrypt() functions into a single function called caesar().\n",
    "\n",
    "# def encrypt(plain_text, shift_amount):\n",
    "#   cipher_text = \"\"\n",
    "#   for letter in plain_text:\n",
    "#     position = alphabet.index(letter)\n",
    "#     new_position = position + shift_amount\n",
    "#     cipher_text += alphabet[new_position]\n",
    "#   print(f\"The encoded text is {cipher_text}\")\n",
    "\n",
    "# def decrypt(cipher_text, shift_amount):\n",
    "#   plain_text = \"\"\n",
    "#   for letter in cipher_text:\n",
    "#     position = alphabet.index(letter)\n",
    "#     new_position = position - shift_amount\n",
    "#     plain_text += alphabet[new_position]\n",
    "#   print(f\"The decoded text is {plain_text}\")\n",
    "\n",
    "# if direction == \"encode\":\n",
    "#   encrypt(plain_text=text, shift_amount=shift)\n",
    "# elif direction == \"decode\":\n",
    "#   decrypt(cipher_text=text, shift_amount=shift)\n",
    "\n",
    "#TODO-2: Call the caesar() function, passing over the 'text', 'shift' and 'direction' values.\n",
    "def caesar(user_direction, user_text, shift_amount):\n",
    "\n",
    "    if user_direction == \"encode\":\n",
    "        # Encrypting the Plain-text\n",
    "        cipher_text = \"\"\n",
    "        for letter in user_text:\n",
    "            position = alphabet.index(letter)\n",
    "            new_position = position + shift_amount\n",
    "            cipher_text += alphabet[new_position]\n",
    "\n",
    "        print(f\"The encoded text is {cipher_text}\")\n",
    "\n",
    "\n",
    "    # Decrypting the cipher-text\n",
    "    elif user_direction == \"decode\":\n",
    "        plain_text = \"\"\n",
    "        for letter in user_text:\n",
    "          position = alphabet.index(letter)\n",
    "          new_position = position - shift_amount\n",
    "          plain_text += alphabet[new_position]\n",
    "\n",
    "        print(f\"The decoded text is {plain_text}\")\n",
    "\n",
    "\n",
    "\n",
    "\n",
    "\n",
    "\n",
    "\n",
    "\n",
    "\n",
    "\n",
    "caesar(user_direction= direction, user_text=text, shift_amount=shift)"
   ],
   "metadata": {
    "collapsed": false
   }
  },
  {
   "cell_type": "markdown",
   "source": [],
   "metadata": {
    "collapsed": false
   }
  },
  {
   "cell_type": "code",
   "execution_count": null,
   "outputs": [],
   "source": [
    "alphabet = ['a', 'b', 'c', 'd', 'e', 'f', 'g', 'h', 'i', 'j', 'k', 'l', 'm', 'n', 'o', 'p', 'q', 'r', 's', 't', 'u', 'v', 'w', 'x', 'y', 'z', 'a', 'b', 'c', 'd', 'e', 'f', 'g', 'h', 'i', 'j', 'k', 'l', 'm', 'n', 'o', 'p', 'q', 'r', 's', 't', 'u', 'v', 'w', 'x', 'y', 'z']\n",
    "\n",
    "def caesar(start_text, shift_amount, cipher_direction):\n",
    "  print(start_text)\n",
    "  end_text = \"\"\n",
    "  if cipher_direction == \"decode\":\n",
    "    shift_amount *= -1\n",
    "  for char in start_text:\n",
    "    # print(char)\n",
    "    #TODO-3: What happens if the user enters a number/symbol/space?\n",
    "    #Can you fix the code to keep the number/symbol/space when the text is encoded/decoded?\n",
    "    #e.g. start_text = \"meet me at 3\"\n",
    "    #end_text = \"•••• •• •• 3\"\n",
    "    if char.isalpha():\n",
    "      # position = alphabet.index(char)\n",
    "      # new_position = position + shift_amount\n",
    "      # end_text += alphabet[new_position]\n",
    "      print(\"isalpha:\", char)\n",
    "    else:\n",
    "      end_text += char\n",
    "\n",
    "  print(f\"Here's the {cipher_direction}d result: {end_text}\")\n",
    "\n",
    "#TODO-1: Import and print the logo from art.py when the program starts.\n",
    "\n",
    "#TODO-4: Can you figure out a way to ask the user if they want to restart the cipher program?\n",
    "#e.g. Type 'yes' if you want to go again. Otherwise type 'no'.\n",
    "#If they type 'yes' then ask them for the direction/text/shift again and call the caesar() function again?\n",
    "#Hint: Try creating a while loop that continues to execute the program if the user types 'yes'.\n",
    "\n",
    "direction = input(\"Type 'encode' to encrypt, type 'decode' to decrypt:\\n\")\n",
    "text = input(\"Type your message:\\n\").lower()\n",
    "shift = int(input(\"Type the shift number:\\n\"))\n",
    "\n",
    "#TODO-2: What if the user enters a shift that is greater than the number of letters in the alphabet?\n",
    "#Try running the program and entering a shift number of 45.\n",
    "#Add some code so that the program continues to work even if the user enters a shift number greater than 26.\n",
    "#Hint: Think about how you can use the modulus (%).\n",
    "\n",
    "caesar(start_text=text, shift_amount=shift, cipher_direction=direction)"
   ],
   "metadata": {
    "collapsed": false
   }
  },
  {
   "cell_type": "code",
   "execution_count": null,
   "outputs": [],
   "source": [
    "travel_log = [\n",
    "{\n",
    "  \"country\": \"France\",\n",
    "  \"visits\": 12,\n",
    "  \"cities\": [\"Paris\", \"Lille\", \"Dijon\"]\n",
    "},\n",
    "{\n",
    "  \"country\": \"Germany\",\n",
    "  \"visits\": 5,\n",
    "  \"cities\": [\"Berlin\", \"Hamburg\", \"Stuttgart\"]\n",
    "},\n",
    "]\n",
    "\n",
    "travel_log.append(\"akash\")\n",
    "travel_log += [{\"akds\":1, 'a':2}]\n",
    "\n",
    "# travel_log.append({'aviash':1, 'avinash':2, 'cities': ['Paris', 'Lille', 'Dijon']})\n",
    "travel_log   += [{'aviash':1, 'avinash':2, 'cities': ['Paris', 'Lille' 'Dijon']}]\n",
    "\n",
    "print(travel_log)"
   ],
   "metadata": {
    "collapsed": false
   }
  },
  {
   "cell_type": "code",
   "execution_count": null,
   "outputs": [],
   "source": [
    "travel_log = [\n",
    "{\n",
    "  \"country\": \"France\",\n",
    "  \"visits\": 12,\n",
    "  \"cities\": [\"Paris\", \"Lille\", \"Dijon\"]\n",
    "},\n",
    "{\n",
    "  \"country\": \"Germany\",\n",
    "  \"visits\": 5,\n",
    "  \"cities\": [\"Berlin\", \"Hamburg\", \"Stuttgart\"]\n",
    "},\n",
    "]\n",
    "#🚨 Do NOT change the code above\n",
    "\n",
    "#TODO: Write the function that will allow new countries\n",
    "#to be added to the travel_log. 👇\n",
    "def add_new_country(new_country, visits_count, cities_list):\n",
    "\n",
    "    travel_log.append({\"country\":new_country, \"visits\":visits_count, \"cities\":cities_list})\n",
    "    \n",
    "\n",
    "\n",
    "\n",
    "#🚨 Do not change the code below\n",
    "add_new_country(\"Russia\", 2, [\"Moscow\", \"Saint Petersburg\"])\n",
    "print(travel_log)\n"
   ],
   "metadata": {
    "collapsed": false
   }
  },
  {
   "cell_type": "code",
   "execution_count": null,
   "outputs": [],
   "source": [
    "d1 = {'a': 23, 'x': 12, 'c': 56, 'akas':100, 't':7}\n",
    "\n",
    "# len(d1)\n",
    "# l1 =[]\n",
    "# for i in d1:\n",
    "#     l1.append(d1[i])\n",
    "#\n",
    "# print(l1)\n",
    "# print(max(l1))\n",
    "#\n",
    "# # for key, value in enumerate(d1):\n",
    "# #     print(key, value)\n",
    "#\n",
    "# print(d1.items())\n",
    "#\n",
    "# for key, value in d1.items():\n",
    "#     print(key, value)\n",
    "def m(dict1):\n",
    "    keys = list(dict1.keys())\n",
    "    items = list(dict1.values())\n",
    "\n",
    "    # max_val = max(items)\n",
    "    # max_key = keys[items.index(max_val)]\n",
    "    # return  max_key, max_val\n",
    "\n",
    "# print(\"keys: \", keys)\n",
    "# print(\"values: \", items)\n",
    "#\n",
    "# key1 = keys[items.index(12)]\n",
    "#\n",
    "# print(key1)\n",
    "# max_val = 0\n",
    "\n",
    "# for key , item in d1.items():\n",
    "#     print(key, item)\n",
    "#     temp_keys = list(d1.items)\n",
    "\n",
    "    # if item > max_val:\n",
    "    #     max_val = item\n",
    "    #     max_key = key\n",
    "print(max_key, max_val)\n",
    "\n"
   ],
   "metadata": {
    "collapsed": false
   }
  },
  {
   "cell_type": "code",
   "execution_count": null,
   "outputs": [],
   "source": [
    "for key in d1:\n",
    "    if d1[key] > 0:\n",
    "        print(key)"
   ],
   "metadata": {
    "collapsed": false
   }
  },
  {
   "cell_type": "code",
   "execution_count": null,
   "outputs": [],
   "source": [
    "dictA = {\"Mon\": 3, \"Tue\": 11, \"Wed\": 8}\n",
    "def GetKey(val):\n",
    "   for key, value in dictA.items():\n",
    "      if val == value:\n",
    "         return key\n",
    "      return \"key doesn't exist\"\n",
    "print(GetKey(11))\n",
    "print(GetKey(3))\n",
    "print(GetKey(10))"
   ],
   "metadata": {
    "collapsed": false
   }
  },
  {
   "cell_type": "code",
   "execution_count": null,
   "outputs": [],
   "source": [
    "############### Blackjack Project #####################\n",
    "\n",
    "#Difficulty Normal 😎: Use all Hints below to complete the project.\n",
    "#Difficulty Hard 🤔: Use only Hints 1, 2, 3 to complete the project.\n",
    "#Difficulty Extra Hard 😭: Only use Hints 1 & 2 to complete the project.\n",
    "#Difficulty Expert 🤯: Only use Hint 1 to complete the project.\n",
    "\n",
    "############### Our Blackjack House Rules #####################\n",
    "\n",
    "## The deck is unlimited in size.\n",
    "## There are no jokers.\n",
    "## The Jack/Queen/King all count as 10.\n",
    "## The the Ace can count as 11 or 1.\n",
    "## Use the following list as the deck of cards:\n",
    "## cards = [11, 2, 3, 4, 5, 6, 7, 8, 9, 10, 10, 10, 10]\n",
    "## The cards in the list have equal probability of being drawn.\n",
    "## Cards are not removed from the deck as they are drawn.\n",
    "## The computer is the dealer.\n",
    "\n",
    "##################### Hints #####################\n",
    "\n",
    "#Hint 1: Go to this website and try out the Blackjack game:\n",
    "#   https://games.washingtonpost.com/games/blackjack/\n",
    "#Then try out the completed Blackjack project here:\n",
    "#   http://blackjack-final.appbrewery.repl.run\n",
    "\n",
    "#Hint 2: Read this breakdown of program requirements:\n",
    "#   http://listmoz.com/view/6h34DJpvJBFVRlZfJvxF\n",
    "#Then try to create your own flowchart for the program.\n",
    "\n",
    "#Hint 3: Download and read this flow chart I've created:\n",
    "#   https://drive.google.com/uc?export=download&id=1rDkiHCrhaf9eX7u7yjM1qwSuyEk-rPnt\n",
    "\n",
    "#Hint 4: Create a deal_card() function that uses the List below to *return* a random card.\n",
    "#11 is the Ace.\n",
    "#cards = [11, 2, 3, 4, 5, 6, 7, 8, 9, 10, 10, 10, 10]\n",
    "\n",
    "#Hint 5: Deal the user and computer 2 cards each using deal_card() and append().\n",
    "#user_cards = []\n",
    "#computer_cards = []\n",
    "\n",
    "#Hint 6: Create a function called calculate_score() that takes a List of cards as input\n",
    "#and returns the score.\n",
    "#Look up the sum() function to help you do this.\n",
    "\n",
    "#Hint 7: Inside calculate_score() check for a blackjack (a hand with only 2 cards: ace + 10) and return 0 instead of the actual score. 0 will represent a blackjack in our game.\n",
    "\n",
    "#Hint 8: Inside calculate_score() check for an 11 (ace). If the score is already over 21, remove the 11 and replace it with a 1. You might need to look up append() and remove().\n",
    "\n",
    "#Hint 9: Call calculate_score(). If the computer or the user has a blackjack (0) or if the user's score is over 21, then the game ends.\n",
    "\n",
    "#Hint 10: If the game has not ended, ask the user if they want to draw another card. If yes, then use the deal_card() function to add another card to the user_cards List. If no, then the game has ended.\n",
    "\n",
    "#Hint 11: The score will need to be rechecked with every new card drawn and the checks in Hint 9 need to be repeated until the game ends.\n",
    "\n",
    "#Hint 12: Once the user is done, it's time to let the computer play. The computer should keep drawing cards as long as it has a score less than 17.\n",
    "\n",
    "#Hint 13: Create a function called compare() and pass in the user_score and dealer_score. If the computer and user both have the same score, then it's a draw. If the computer has a blackjack (0), then the user loses. If the user has a blackjack (0), then the user wins. If the user_score is over 21, then the user loses. If the dealer_score is over 21, then the computer loses. If none of the above, then the player with the highest score wins.\n",
    "\n",
    "#Hint 14: Ask the user if they want to restart the game. If they answer yes, clear the console and start a new game of blackjack and show the logo from art.py.\n",
    "\n",
    "# from art import logo\n",
    "import random\n",
    "from replit import  clear\n",
    "# print(logo)\n",
    "cards = [11, 2, 3, 4, 5, 6, 7, 8, 9, 10, 10, 10, 10]\n",
    "\n",
    "# Defining function to randomly select card(s).\n",
    "def deal_card(times_count):\n",
    "  random_card = []\n",
    "  for i in range(times_count):\n",
    "    random_card.append(random.choice(cards))\n",
    "  return random_card\n",
    "\n",
    "# Defining function to calculate the sum of cards values.\n",
    "def card_score(selected_card):\n",
    "  total_score = 0\n",
    "  for value in selected_card:\n",
    "      total_score += value\n",
    "\n",
    "  if 11 in selected_card and total_score>21:\n",
    "    return total_score -11 +1\n",
    "  else:\n",
    "    return total_score\n",
    "\n",
    "\n",
    "# Defining function to get the Status of the score i.e, is score under 21, over 21 or equal to 21.\n",
    "def score_status(score):\n",
    "  if score > 21:\n",
    "    over_21= True\n",
    "    under_21 = False\n",
    "    score_21 = False\n",
    "    return over_21 , under_21 , score_21\n",
    "  elif score == 21:\n",
    "    over_21 = False\n",
    "    under_21 = False\n",
    "    score_21 = True\n",
    "    return over_21 , under_21 , score_21\n",
    "  else:\n",
    "    over_21 = False\n",
    "    under_21 = True\n",
    "    score_21= False\n",
    "    return over_21 , under_21 , score_21\n",
    "\n",
    "\n",
    "def black_jack():\n",
    "      want_to_play = input(\"Want to play Black-Jack? Type 'y' for yes or 'n' for no: \")\n",
    "\n",
    "      dealer_card = []\n",
    "      mine_card = []\n",
    "      dealer_score =[]\n",
    "      mine_score =[]\n",
    "\n",
    "\n",
    "      if want_to_play == 'y':\n",
    "        dealer_card += deal_card(2)\n",
    "        dealer_score = card_score(dealer_card)\n",
    "\n",
    "        mine_card +=deal_card(2)\n",
    "        mine_score = card_score(mine_card)\n",
    "      elif want_to_play == 'n':\n",
    "        print(\"end the game:\")\n",
    "\n",
    "      print(f\"Computer Card: {dealer_card} and computer Score: {dealer_score}\")\n",
    "      print(f\"Your card: {mine_card} and Your Score: {mine_score}\")\n",
    "\n",
    "\n",
    "\n",
    "\n",
    "\n",
    "      score_under_21 = True\n",
    "      while score_under_21:\n",
    "            another_card = input(\"Enter 'y' to select next card or 'n' to Pass: \")\n",
    "\n",
    "            if another_card == 'y':\n",
    "              mine_card += deal_card(1)\n",
    "              mine_score = card_score(mine_card)\n",
    "            elif another_card == 'n':\n",
    "              if dealer_score > mine_score:\n",
    "                print(\"Computer win\")\n",
    "                break\n",
    "              else:\n",
    "                dealer_card += deal_card(1)\n",
    "                dealer_score = card_score(dealer_card)\n",
    "\n",
    "            print(f\"Computer Card: {dealer_card} and computer Score: {dealer_score}\")\n",
    "            print(f\"Your card: {mine_card} and Your Score: {mine_score}\")\n",
    "\n",
    "            print(score_under_21)\n",
    "\n",
    "            over_21, score_under_21, score_21 = score_status(dealer_score)\n",
    "            if score_21:\n",
    "              print(\"Jack-pot , Computer win\")\n",
    "            elif over_21 :\n",
    "              print(\"Computer Lose: \")\n",
    "\n",
    "            over_21, score_under_21, score_21 = score_status(mine_score)\n",
    "            if score_21:\n",
    "              print(\"jack-pot, You win\")\n",
    "            elif over_21:\n",
    "              print(\"You lose: \")\n",
    "\n",
    "            print(score_under_21)\n",
    "\n",
    "      clear()\n",
    "      black_jack()\n",
    "\n",
    "black_jack()"
   ],
   "metadata": {
    "collapsed": false
   }
  },
  {
   "cell_type": "code",
   "execution_count": 3,
   "outputs": [
    {
     "name": "stdout",
     "output_type": "stream",
     "text": [
      "this\n",
      "out of if-elif block:\n",
      "test if\n"
     ]
    }
   ],
   "source": [
    "a = 10\n",
    "\n",
    "if a == 10:\n",
    "    print(\"this\")\n",
    "elif a==20:\n",
    "    print(\"elif\")\n",
    "\n",
    "print(\"out of if-elif block:\")\n",
    "\n",
    "if a==10:\n",
    "    print(\"test if\")\n",
    "elif a ==20:\n",
    "    print(\"test2\")\n"
   ],
   "metadata": {
    "collapsed": false
   }
  },
  {
   "cell_type": "code",
   "execution_count": null,
   "outputs": [],
   "source": [],
   "metadata": {
    "collapsed": false
   }
  }
 ],
 "metadata": {
  "kernelspec": {
   "display_name": "Python 3",
   "language": "python",
   "name": "python3"
  },
  "language_info": {
   "codemirror_mode": {
    "name": "ipython",
    "version": 2
   },
   "file_extension": ".py",
   "mimetype": "text/x-python",
   "name": "python",
   "nbconvert_exporter": "python",
   "pygments_lexer": "ipython2",
   "version": "2.7.6"
  }
 },
 "nbformat": 4,
 "nbformat_minor": 0
}
